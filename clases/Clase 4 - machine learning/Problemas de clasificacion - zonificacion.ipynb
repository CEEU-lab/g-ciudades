{
 "cells": [
  {
   "cell_type": "markdown",
   "metadata": {
    "id": "QNTbpynN6cCC"
   },
   "source": [
    "# ... más problemas computacionales, ahora algo de zonificación!"
   ]
  },
  {
   "cell_type": "markdown",
   "metadata": {
    "id": "dEStVfQo75Hw"
   },
   "source": [
    "Veamos rápidamente, cómo podemos plantear un problema de clasificación para determinar tipos de uso en un área urbana. Para eso, vamos a completar dos grandes pasos:"
   ]
  },
  {
   "cell_type": "markdown",
   "metadata": {
    "id": "zgoyyecI9B83"
   },
   "source": [
    "### 1. Fraccionar nuestro territorio en partes iguales"
   ]
  },
  {
   "cell_type": "markdown",
   "metadata": {
    "id": "ohz9u9qQkOOI"
   },
   "source": [
    "En esta primera sección vamos a hacer algo que se conoce como `feature engineering`. Esto significa, que vamos a hacer todo el pre-procesamiento necesario para acomodar nuestras variables explicativas (que son las que utilizaremos para responder nuestra pregunta).\n",
    "\n",
    "Dado que estamos pensando un problema de zonificación, vamos a empezar por construir nuestras zonas de target (aquellas que decidiremos si son residenciales o no)."
   ]
  },
  {
   "cell_type": "code",
   "execution_count": null,
   "metadata": {
    "colab": {
     "base_uri": "https://localhost:8080/"
    },
    "executionInfo": {
     "elapsed": 68115,
     "status": "ok",
     "timestamp": 1659310458030,
     "user": {
      "displayName": "Federico Catalano",
      "userId": "05639651212963955278"
     },
     "user_tz": 180
    },
    "id": "71lFQ9h1L0-v",
    "outputId": "0a8483d5-905d-43d0-8df8-96b64d81e3bf"
   },
   "outputs": [
    {
     "name": "stdout",
     "output_type": "stream",
     "text": [
      "Looking in indexes: https://pypi.org/simple, https://us-python.pkg.dev/colab-wheels/public/simple/\n",
      "Collecting geopandas\n",
      "  Downloading geopandas-0.10.2-py2.py3-none-any.whl (1.0 MB)\n",
      "\u001b[K     |████████████████████████████████| 1.0 MB 5.1 MB/s \n",
      "\u001b[?25hRequirement already satisfied: shapely>=1.6 in /usr/local/lib/python3.7/dist-packages (from geopandas) (1.8.2)\n",
      "Collecting pyproj>=2.2.0\n",
      "  Downloading pyproj-3.2.1-cp37-cp37m-manylinux2010_x86_64.whl (6.3 MB)\n",
      "\u001b[K     |████████████████████████████████| 6.3 MB 38.0 MB/s \n",
      "\u001b[?25hCollecting fiona>=1.8\n",
      "  Downloading Fiona-1.8.21-cp37-cp37m-manylinux2014_x86_64.whl (16.7 MB)\n",
      "\u001b[K     |████████████████████████████████| 16.7 MB 11.4 MB/s \n",
      "\u001b[?25hRequirement already satisfied: pandas>=0.25.0 in /usr/local/lib/python3.7/dist-packages (from geopandas) (1.3.5)\n",
      "Requirement already satisfied: certifi in /usr/local/lib/python3.7/dist-packages (from fiona>=1.8->geopandas) (2022.6.15)\n",
      "Requirement already satisfied: six>=1.7 in /usr/local/lib/python3.7/dist-packages (from fiona>=1.8->geopandas) (1.15.0)\n",
      "Requirement already satisfied: click>=4.0 in /usr/local/lib/python3.7/dist-packages (from fiona>=1.8->geopandas) (7.1.2)\n",
      "Requirement already satisfied: setuptools in /usr/local/lib/python3.7/dist-packages (from fiona>=1.8->geopandas) (57.4.0)\n",
      "Collecting click-plugins>=1.0\n",
      "  Downloading click_plugins-1.1.1-py2.py3-none-any.whl (7.5 kB)\n",
      "Collecting munch\n",
      "  Downloading munch-2.5.0-py2.py3-none-any.whl (10 kB)\n",
      "Requirement already satisfied: attrs>=17 in /usr/local/lib/python3.7/dist-packages (from fiona>=1.8->geopandas) (21.4.0)\n",
      "Collecting cligj>=0.5\n",
      "  Downloading cligj-0.7.2-py3-none-any.whl (7.1 kB)\n",
      "Requirement already satisfied: numpy>=1.17.3 in /usr/local/lib/python3.7/dist-packages (from pandas>=0.25.0->geopandas) (1.21.6)\n",
      "Requirement already satisfied: python-dateutil>=2.7.3 in /usr/local/lib/python3.7/dist-packages (from pandas>=0.25.0->geopandas) (2.8.2)\n",
      "Requirement already satisfied: pytz>=2017.3 in /usr/local/lib/python3.7/dist-packages (from pandas>=0.25.0->geopandas) (2022.1)\n",
      "Installing collected packages: munch, cligj, click-plugins, pyproj, fiona, geopandas\n",
      "Successfully installed click-plugins-1.1.1 cligj-0.7.2 fiona-1.8.21 geopandas-0.10.2 munch-2.5.0 pyproj-3.2.1\n",
      "Looking in indexes: https://pypi.org/simple, https://us-python.pkg.dev/colab-wheels/public/simple/\n",
      "Collecting pysal\n",
      "  Downloading pysal-2.7.0-py3-none-any.whl (17 kB)\n",
      "Collecting inequality>=1.0.0\n",
      "  Downloading inequality-1.0.0.tar.gz (11 kB)\n",
      "Collecting segregation>=2.3.1\n",
      "  Downloading segregation-2.3.1-py3-none-any.whl (147 kB)\n",
      "\u001b[K     |████████████████████████████████| 147 kB 7.3 MB/s \n",
      "\u001b[?25hCollecting splot>=1.1.5.post1\n",
      "  Downloading splot-1.1.5.post1-py3-none-any.whl (39 kB)\n",
      "Collecting giddy>=2.3.3\n",
      "  Downloading giddy-2.3.3-py3-none-any.whl (60 kB)\n",
      "\u001b[K     |████████████████████████████████| 60 kB 2.1 MB/s \n",
      "\u001b[?25hCollecting spglm>=1.0.8\n",
      "  Downloading spglm-1.0.8.tar.gz (37 kB)\n",
      "Collecting momepy>=0.5.3\n",
      "  Downloading momepy-0.5.3-py3-none-any.whl (243 kB)\n",
      "\u001b[K     |████████████████████████████████| 243 kB 42.2 MB/s \n",
      "\u001b[?25hCollecting spint>=1.0.7\n",
      "  Downloading spint-1.0.7.tar.gz (28 kB)\n",
      "Collecting pysal\n",
      "  Downloading pysal-2.6.0-py3-none-any.whl (17 kB)\n",
      "Collecting spreg>=1.2.4\n",
      "  Downloading spreg-1.2.4-py3-none-any.whl (209 kB)\n",
      "\u001b[K     |████████████████████████████████| 209 kB 44.1 MB/s \n",
      "\u001b[?25hCollecting spopt>=0.2.1\n",
      "  Downloading spopt-0.4.1-py3-none-any.whl (84 kB)\n",
      "\u001b[K     |████████████████████████████████| 84 kB 4.0 MB/s \n",
      "\u001b[?25hCollecting tobler>=0.8.2\n",
      "  Downloading tobler-0.9.0-py3-none-any.whl (22 kB)\n",
      "Collecting mgwr>=2.1.2\n",
      "  Downloading mgwr-2.1.2.tar.gz (41 kB)\n",
      "\u001b[K     |████████████████████████████████| 41 kB 374 kB/s \n",
      "\u001b[?25hCollecting mapclassify>=2.4.3\n",
      "  Downloading mapclassify-2.4.3-py3-none-any.whl (38 kB)\n",
      "Collecting pointpats>=2.2.0\n",
      "  Downloading pointpats-2.2.0.tar.gz (55 kB)\n",
      "\u001b[K     |████████████████████████████████| 55 kB 1.9 MB/s \n",
      "\u001b[?25hCollecting spaghetti>=1.6.5\n",
      "  Downloading spaghetti-1.6.5-py3-none-any.whl (46 kB)\n",
      "\u001b[K     |████████████████████████████████| 46 kB 3.8 MB/s \n",
      "\u001b[?25hCollecting libpysal>=4.6.0\n",
      "  Downloading libpysal-4.6.2-py3-none-any.whl (2.4 MB)\n",
      "\u001b[K     |████████████████████████████████| 2.4 MB 18.3 MB/s \n",
      "\u001b[?25hCollecting esda>=2.4.1\n",
      "  Downloading esda-2.4.1.tar.gz (95 kB)\n",
      "\u001b[K     |████████████████████████████████| 95 kB 2.7 MB/s \n",
      "\u001b[?25hCollecting spvcm>=0.3.0\n",
      "  Downloading spvcm-0.3.0.tar.gz (5.7 MB)\n",
      "\u001b[K     |████████████████████████████████| 5.7 MB 24.2 MB/s \n",
      "\u001b[?25hCollecting access>=1.1.3\n",
      "  Downloading access-1.1.8-py3-none-any.whl (21 kB)\n",
      "Requirement already satisfied: geopandas in /usr/local/lib/python3.7/dist-packages (from access>=1.1.3->pysal) (0.10.2)\n",
      "Requirement already satisfied: requests>=2 in /usr/local/lib/python3.7/dist-packages (from access>=1.1.3->pysal) (2.23.0)\n",
      "Requirement already satisfied: pandas>=0.23.4 in /usr/local/lib/python3.7/dist-packages (from access>=1.1.3->pysal) (1.3.5)\n",
      "Requirement already satisfied: numpy>=1.3 in /usr/local/lib/python3.7/dist-packages (from access>=1.1.3->pysal) (1.21.6)\n",
      "Requirement already satisfied: scipy>=0.11 in /usr/local/lib/python3.7/dist-packages (from esda>=2.4.1->pysal) (1.7.3)\n",
      "Requirement already satisfied: scikit-learn in /usr/local/lib/python3.7/dist-packages (from esda>=2.4.1->pysal) (1.0.2)\n",
      "Collecting quantecon>=0.4.7\n",
      "  Downloading quantecon-0.5.3-py3-none-any.whl (179 kB)\n",
      "\u001b[K     |████████████████████████████████| 179 kB 43.1 MB/s \n",
      "\u001b[?25hRequirement already satisfied: packaging in /usr/local/lib/python3.7/dist-packages (from libpysal>=4.6.0->pysal) (21.3)\n",
      "Requirement already satisfied: beautifulsoup4 in /usr/local/lib/python3.7/dist-packages (from libpysal>=4.6.0->pysal) (4.6.3)\n",
      "Requirement already satisfied: appdirs in /usr/local/lib/python3.7/dist-packages (from libpysal>=4.6.0->pysal) (1.4.4)\n",
      "Requirement already satisfied: jinja2 in /usr/local/lib/python3.7/dist-packages (from libpysal>=4.6.0->pysal) (2.11.3)\n",
      "Requirement already satisfied: networkx in /usr/local/lib/python3.7/dist-packages (from mapclassify>=2.4.3->pysal) (2.6.3)\n",
      "Requirement already satisfied: tqdm>=4.27.0 in /usr/local/lib/python3.7/dist-packages (from momepy>=0.5.3->pysal) (4.64.0)\n",
      "Collecting pygeos\n",
      "  Downloading pygeos-0.12.0-cp37-cp37m-manylinux_2_17_x86_64.manylinux2014_x86_64.whl (2.1 MB)\n",
      "\u001b[K     |████████████████████████████████| 2.1 MB 35.7 MB/s \n",
      "\u001b[?25hRequirement already satisfied: pyproj>=2.2.0 in /usr/local/lib/python3.7/dist-packages (from geopandas->access>=1.1.3->pysal) (3.2.1)\n",
      "Requirement already satisfied: shapely>=1.6 in /usr/local/lib/python3.7/dist-packages (from geopandas->access>=1.1.3->pysal) (1.8.2)\n",
      "Requirement already satisfied: fiona>=1.8 in /usr/local/lib/python3.7/dist-packages (from geopandas->access>=1.1.3->pysal) (1.8.21)\n",
      "Requirement already satisfied: munch in /usr/local/lib/python3.7/dist-packages (from fiona>=1.8->geopandas->access>=1.1.3->pysal) (2.5.0)\n",
      "Requirement already satisfied: setuptools in /usr/local/lib/python3.7/dist-packages (from fiona>=1.8->geopandas->access>=1.1.3->pysal) (57.4.0)\n",
      "Requirement already satisfied: cligj>=0.5 in /usr/local/lib/python3.7/dist-packages (from fiona>=1.8->geopandas->access>=1.1.3->pysal) (0.7.2)\n",
      "Requirement already satisfied: attrs>=17 in /usr/local/lib/python3.7/dist-packages (from fiona>=1.8->geopandas->access>=1.1.3->pysal) (21.4.0)\n",
      "Requirement already satisfied: certifi in /usr/local/lib/python3.7/dist-packages (from fiona>=1.8->geopandas->access>=1.1.3->pysal) (2022.6.15)\n",
      "Requirement already satisfied: click-plugins>=1.0 in /usr/local/lib/python3.7/dist-packages (from fiona>=1.8->geopandas->access>=1.1.3->pysal) (1.1.1)\n",
      "Requirement already satisfied: six>=1.7 in /usr/local/lib/python3.7/dist-packages (from fiona>=1.8->geopandas->access>=1.1.3->pysal) (1.15.0)\n",
      "Requirement already satisfied: click>=4.0 in /usr/local/lib/python3.7/dist-packages (from fiona>=1.8->geopandas->access>=1.1.3->pysal) (7.1.2)\n",
      "Requirement already satisfied: pytz>=2017.3 in /usr/local/lib/python3.7/dist-packages (from pandas>=0.23.4->access>=1.1.3->pysal) (2022.1)\n",
      "Requirement already satisfied: python-dateutil>=2.7.3 in /usr/local/lib/python3.7/dist-packages (from pandas>=0.23.4->access>=1.1.3->pysal) (2.8.2)\n",
      "Requirement already satisfied: matplotlib in /usr/local/lib/python3.7/dist-packages (from pointpats>=2.2.0->pysal) (3.2.2)\n",
      "Requirement already satisfied: opencv-contrib-python>=4.2.0 in /usr/local/lib/python3.7/dist-packages (from pointpats>=2.2.0->pysal) (4.6.0.66)\n",
      "Requirement already satisfied: sympy in /usr/local/lib/python3.7/dist-packages (from quantecon>=0.4.7->giddy>=2.3.3->pysal) (1.7.1)\n",
      "Requirement already satisfied: numba in /usr/local/lib/python3.7/dist-packages (from quantecon>=0.4.7->giddy>=2.3.3->pysal) (0.51.2)\n",
      "Requirement already satisfied: idna<3,>=2.5 in /usr/local/lib/python3.7/dist-packages (from requests>=2->access>=1.1.3->pysal) (2.10)\n",
      "Requirement already satisfied: urllib3!=1.25.0,!=1.25.1,<1.26,>=1.21.1 in /usr/local/lib/python3.7/dist-packages (from requests>=2->access>=1.1.3->pysal) (1.24.3)\n",
      "Requirement already satisfied: chardet<4,>=3.0.2 in /usr/local/lib/python3.7/dist-packages (from requests>=2->access>=1.1.3->pysal) (3.0.4)\n",
      "Collecting deprecation\n",
      "  Downloading deprecation-2.1.0-py2.py3-none-any.whl (11 kB)\n",
      "Collecting quilt3\n",
      "  Downloading quilt3-5.0.0-py3-none-any.whl (78 kB)\n",
      "\u001b[K     |████████████████████████████████| 78 kB 6.5 MB/s \n",
      "\u001b[?25hRequirement already satisfied: seaborn in /usr/local/lib/python3.7/dist-packages (from segregation>=2.3.1->pysal) (0.11.2)\n",
      "Requirement already satisfied: pip in /usr/local/lib/python3.7/dist-packages (from segregation>=2.3.1->pysal) (21.1.3)\n",
      "Collecting rvlib>=0.0.5\n",
      "  Downloading rvlib-0.0.6.tar.gz (183 kB)\n",
      "\u001b[K     |████████████████████████████████| 183 kB 79.0 MB/s \n",
      "\u001b[?25hRequirement already satisfied: joblib in /usr/local/lib/python3.7/dist-packages (from segregation>=2.3.1->pysal) (1.1.0)\n",
      "Requirement already satisfied: cffi>=1.0.0 in /usr/local/lib/python3.7/dist-packages (from rvlib>=0.0.5->segregation>=2.3.1->pysal) (1.15.1)\n",
      "Requirement already satisfied: PyYAML in /usr/local/lib/python3.7/dist-packages (from rvlib>=0.0.5->segregation>=2.3.1->pysal) (3.13)\n",
      "Requirement already satisfied: pycparser in /usr/local/lib/python3.7/dist-packages (from cffi>=1.0.0->rvlib>=0.0.5->segregation>=2.3.1->pysal) (2.21)\n",
      "Requirement already satisfied: llvmlite<0.35,>=0.34.0.dev0 in /usr/local/lib/python3.7/dist-packages (from numba->quantecon>=0.4.7->giddy>=2.3.3->pysal) (0.34.0)\n",
      "Requirement already satisfied: threadpoolctl>=2.0.0 in /usr/local/lib/python3.7/dist-packages (from scikit-learn->esda>=2.4.1->pysal) (3.1.0)\n",
      "Collecting rtree\n",
      "  Downloading Rtree-1.0.0-cp37-cp37m-manylinux_2_17_x86_64.manylinux2014_x86_64.whl (1.0 MB)\n",
      "\u001b[K     |████████████████████████████████| 1.0 MB 38.8 MB/s \n",
      "\u001b[?25hCollecting pulp\n",
      "  Downloading PuLP-2.6.0-py3-none-any.whl (14.2 MB)\n",
      "\u001b[K     |████████████████████████████████| 14.2 MB 22.4 MB/s \n",
      "\u001b[?25hCollecting rasterio\n",
      "  Downloading rasterio-1.2.10-cp37-cp37m-manylinux1_x86_64.whl (19.3 MB)\n",
      "\u001b[K     |████████████████████████████████| 19.3 MB 2.6 MB/s \n",
      "\u001b[?25hCollecting rasterstats\n",
      "  Downloading rasterstats-0.17.0-py3-none-any.whl (16 kB)\n",
      "Requirement already satisfied: statsmodels in /usr/local/lib/python3.7/dist-packages (from tobler>=0.8.2->pysal) (0.10.2)\n",
      "Requirement already satisfied: MarkupSafe>=0.23 in /usr/local/lib/python3.7/dist-packages (from jinja2->libpysal>=4.6.0->pysal) (2.0.1)\n",
      "Requirement already satisfied: cycler>=0.10 in /usr/local/lib/python3.7/dist-packages (from matplotlib->pointpats>=2.2.0->pysal) (0.11.0)\n",
      "Requirement already satisfied: pyparsing!=2.0.4,!=2.1.2,!=2.1.6,>=2.0.1 in /usr/local/lib/python3.7/dist-packages (from matplotlib->pointpats>=2.2.0->pysal) (3.0.9)\n",
      "Requirement already satisfied: kiwisolver>=1.0.1 in /usr/local/lib/python3.7/dist-packages (from matplotlib->pointpats>=2.2.0->pysal) (1.4.4)\n",
      "Requirement already satisfied: typing-extensions in /usr/local/lib/python3.7/dist-packages (from kiwisolver>=1.0.1->matplotlib->pointpats>=2.2.0->pysal) (4.1.1)\n",
      "Collecting boto3>=1.10.0\n",
      "  Downloading boto3-1.24.42-py3-none-any.whl (132 kB)\n",
      "\u001b[K     |████████████████████████████████| 132 kB 57.4 MB/s \n",
      "\u001b[?25hRequirement already satisfied: tenacity>=5.1.1 in /usr/local/lib/python3.7/dist-packages (from quilt3->segregation>=2.3.1->pysal) (8.0.1)\n",
      "Collecting PyYAML\n",
      "  Downloading PyYAML-6.0-cp37-cp37m-manylinux_2_5_x86_64.manylinux1_x86_64.manylinux_2_12_x86_64.manylinux2010_x86_64.whl (596 kB)\n",
      "\u001b[K     |████████████████████████████████| 596 kB 51.2 MB/s \n",
      "\u001b[?25hRequirement already satisfied: jsonschema<5,>=3 in /usr/local/lib/python3.7/dist-packages (from quilt3->segregation>=2.3.1->pysal) (4.3.3)\n",
      "Collecting requests-futures==1.0.0\n",
      "  Downloading requests_futures-1.0.0-py2.py3-none-any.whl (7.4 kB)\n",
      "Collecting aws-requests-auth>=0.4.2\n",
      "  Downloading aws_requests_auth-0.4.3-py2.py3-none-any.whl (6.8 kB)\n",
      "Collecting jsonlines==1.2.0\n",
      "  Downloading jsonlines-1.2.0-py2.py3-none-any.whl (7.6 kB)\n",
      "Collecting botocore<1.28.0,>=1.27.42\n",
      "  Downloading botocore-1.27.42-py3-none-any.whl (9.0 MB)\n",
      "\u001b[K     |████████████████████████████████| 9.0 MB 48.4 MB/s \n",
      "\u001b[?25hCollecting jmespath<2.0.0,>=0.7.1\n",
      "  Downloading jmespath-1.0.1-py3-none-any.whl (20 kB)\n",
      "Collecting s3transfer<0.7.0,>=0.6.0\n",
      "  Downloading s3transfer-0.6.0-py3-none-any.whl (79 kB)\n",
      "\u001b[K     |████████████████████████████████| 79 kB 10.0 MB/s \n",
      "\u001b[?25hCollecting urllib3!=1.25.0,!=1.25.1,<1.26,>=1.21.1\n",
      "  Downloading urllib3-1.25.11-py2.py3-none-any.whl (127 kB)\n",
      "\u001b[K     |████████████████████████████████| 127 kB 63.1 MB/s \n",
      "\u001b[?25hRequirement already satisfied: importlib-resources>=1.4.0 in /usr/local/lib/python3.7/dist-packages (from jsonschema<5,>=3->quilt3->segregation>=2.3.1->pysal) (5.9.0)\n",
      "Requirement already satisfied: pyrsistent!=0.17.0,!=0.17.1,!=0.17.2,>=0.14.0 in /usr/local/lib/python3.7/dist-packages (from jsonschema<5,>=3->quilt3->segregation>=2.3.1->pysal) (0.18.1)\n",
      "Requirement already satisfied: importlib-metadata in /usr/local/lib/python3.7/dist-packages (from jsonschema<5,>=3->quilt3->segregation>=2.3.1->pysal) (4.12.0)\n",
      "Requirement already satisfied: zipp>=3.1.0 in /usr/local/lib/python3.7/dist-packages (from importlib-resources>=1.4.0->jsonschema<5,>=3->quilt3->segregation>=2.3.1->pysal) (3.8.1)\n",
      "Collecting snuggs>=1.4.1\n",
      "  Downloading snuggs-1.4.7-py3-none-any.whl (5.4 kB)\n",
      "Collecting affine\n",
      "  Downloading affine-2.3.1-py2.py3-none-any.whl (16 kB)\n",
      "Collecting simplejson\n",
      "  Downloading simplejson-3.17.6-cp37-cp37m-manylinux_2_5_x86_64.manylinux1_x86_64.manylinux_2_12_x86_64.manylinux2010_x86_64.whl (130 kB)\n",
      "\u001b[K     |████████████████████████████████| 130 kB 48.8 MB/s \n",
      "\u001b[?25hRequirement already satisfied: patsy>=0.4.0 in /usr/local/lib/python3.7/dist-packages (from statsmodels->tobler>=0.8.2->pysal) (0.5.2)\n",
      "Requirement already satisfied: mpmath>=0.19 in /usr/local/lib/python3.7/dist-packages (from sympy->quantecon>=0.4.7->giddy>=2.3.3->pysal) (1.2.1)\n",
      "Building wheels for collected packages: esda, inequality, mgwr, pointpats, rvlib, spglm, spint, spvcm\n",
      "  Building wheel for esda (setup.py) ... \u001b[?25l\u001b[?25hdone\n",
      "  Created wheel for esda: filename=esda-2.4.1-py3-none-any.whl size=117429 sha256=ad2cba1b3f5ac44344ab6c97c565b624b742999787bf166065a803c737f1cc31\n",
      "  Stored in directory: /root/.cache/pip/wheels/ed/67/c5/4558a178be4c410f341c31f71b5aba9c761a40c9d17dbdfddd\n",
      "  Building wheel for inequality (setup.py) ... \u001b[?25l\u001b[?25hdone\n",
      "  Created wheel for inequality: filename=inequality-1.0.0-py3-none-any.whl size=11800 sha256=d648927fc04ea5cf79b63afd29f106795229ed517f14251dd534d497c2de1f92\n",
      "  Stored in directory: /root/.cache/pip/wheels/a8/81/7a/af8b9e8ea0b034ac1bdd9d68f3a8ceac179eb5418cdb83c851\n",
      "  Building wheel for mgwr (setup.py) ... \u001b[?25l\u001b[?25hdone\n",
      "  Created wheel for mgwr: filename=mgwr-2.1.2-py3-none-any.whl size=46386 sha256=16f3e1d8f69eca17af8d14a689134673795bb3b81e27d3a42506fd3b812567a1\n",
      "  Stored in directory: /root/.cache/pip/wheels/e8/55/57/c1bf993ab0ab4b9885ac1fdf7f9f960397355cf889b77a3e4b\n",
      "  Building wheel for pointpats (setup.py) ... \u001b[?25l\u001b[?25hdone\n",
      "  Created wheel for pointpats: filename=pointpats-2.2.0-py3-none-any.whl size=60835 sha256=a9dee0016dea31bc2557f3bfc3c87dd4dd50d55d4cc34ad602236a6a68177e1c\n",
      "  Stored in directory: /root/.cache/pip/wheels/41/5f/91/08cc68af630fafdc6bed36128abf8e716e062256a8495fdb2d\n",
      "  Building wheel for rvlib (setup.py) ... \u001b[?25l\u001b[?25hdone\n",
      "  Created wheel for rvlib: filename=rvlib-0.0.6-cp37-cp37m-linux_x86_64.whl size=352814 sha256=e009f2a2a8ecf5c8ff05ac132c40628478c0ef11f8bc084fcd03691675d81a0e\n",
      "  Stored in directory: /root/.cache/pip/wheels/8e/fe/cb/66b78310be88014dfbe1a21391c873a9fe49dca403f7d9f454\n",
      "  Building wheel for spglm (setup.py) ... \u001b[?25l\u001b[?25hdone\n",
      "  Created wheel for spglm: filename=spglm-1.0.8-py3-none-any.whl size=38806 sha256=6b04bc051c89f82ac79ce164f72e21d34b53e07db71d7958066d22551611e982\n",
      "  Stored in directory: /root/.cache/pip/wheels/29/79/e9/453e3b0d858bed16e097c6e6bbd75e2b966bfcfb21b12790d0\n",
      "  Building wheel for spint (setup.py) ... \u001b[?25l\u001b[?25hdone\n",
      "  Created wheel for spint: filename=spint-1.0.7-py3-none-any.whl size=31383 sha256=0211251e8704717c8dcd7c3c8cf70f6cd9ca2f0c267a63c00e3407277705b477\n",
      "  Stored in directory: /root/.cache/pip/wheels/dd/ac/5d/25d69231f3bffa2cb47ce29bb7eac9df9246aa9ba286a03a2d\n",
      "  Building wheel for spvcm (setup.py) ... \u001b[?25l\u001b[?25hdone\n",
      "  Created wheel for spvcm: filename=spvcm-0.3.0-py3-none-any.whl size=5777202 sha256=1977b17cf4f2f632020b474ca87db12e5bb9bfa594524555a40f407193fd001d\n",
      "  Stored in directory: /root/.cache/pip/wheels/a4/85/1a/d890ef4d2eaca2788e45925fa531bb58a2138734065abdfe08\n",
      "Successfully built esda inequality mgwr pointpats rvlib spglm spint spvcm\n",
      "Installing collected packages: urllib3, jmespath, botocore, snuggs, s3transfer, libpysal, affine, spreg, simplejson, rtree, requests-futures, rasterio, quantecon, PyYAML, mapclassify, jsonlines, esda, boto3, aws-requests-auth, spglm, spaghetti, rvlib, rasterstats, quilt3, pygeos, pulp, giddy, deprecation, tobler, spvcm, spopt, splot, spint, segregation, pointpats, momepy, mgwr, inequality, access, pysal\n",
      "  Attempting uninstall: urllib3\n",
      "    Found existing installation: urllib3 1.24.3\n",
      "    Uninstalling urllib3-1.24.3:\n",
      "      Successfully uninstalled urllib3-1.24.3\n",
      "  Attempting uninstall: PyYAML\n",
      "    Found existing installation: PyYAML 3.13\n",
      "    Uninstalling PyYAML-3.13:\n",
      "      Successfully uninstalled PyYAML-3.13\n",
      "\u001b[31mERROR: pip's dependency resolver does not currently take into account all the packages that are installed. This behaviour is the source of the following dependency conflicts.\n",
      "datascience 0.10.6 requires folium==0.2.1, but you have folium 0.8.3 which is incompatible.\u001b[0m\n",
      "Successfully installed PyYAML-6.0 access-1.1.8 affine-2.3.1 aws-requests-auth-0.4.3 boto3-1.24.42 botocore-1.27.42 deprecation-2.1.0 esda-2.4.1 giddy-2.3.3 inequality-1.0.0 jmespath-1.0.1 jsonlines-1.2.0 libpysal-4.6.2 mapclassify-2.4.3 mgwr-2.1.2 momepy-0.5.3 pointpats-2.2.0 pulp-2.6.0 pygeos-0.12.0 pysal-2.6.0 quantecon-0.5.3 quilt3-5.0.0 rasterio-1.2.10 rasterstats-0.17.0 requests-futures-1.0.0 rtree-1.0.0 rvlib-0.0.6 s3transfer-0.6.0 segregation-2.3.1 simplejson-3.17.6 snuggs-1.4.7 spaghetti-1.6.5 spglm-1.0.8 spint-1.0.7 splot-1.1.5.post1 spopt-0.4.1 spreg-1.2.4 spvcm-0.3.0 tobler-0.9.0 urllib3-1.25.11\n",
      "Looking in indexes: https://pypi.org/simple, https://us-python.pkg.dev/colab-wheels/public/simple/\n",
      "Collecting h3\n",
      "  Downloading h3-3.7.4-cp37-cp37m-manylinux_2_17_x86_64.manylinux2014_x86_64.whl (1.1 MB)\n",
      "\u001b[K     |████████████████████████████████| 1.1 MB 5.2 MB/s \n",
      "\u001b[?25hInstalling collected packages: h3\n",
      "Successfully installed h3-3.7.4\n"
     ]
    }
   ],
   "source": [
    "# Instalamos dependencias necesarias\n",
    "!pip install geopandas\n",
    "!pip install pysal\n",
    "!pip install h3"
   ]
  },
  {
   "cell_type": "code",
   "execution_count": null,
   "metadata": {
    "id": "101r59WYWSj0"
   },
   "outputs": [],
   "source": [
    "import warnings\n",
    "warnings.filterwarnings('ignore')"
   ]
  },
  {
   "cell_type": "code",
   "execution_count": null,
   "metadata": {
    "id": "gG_wNMElKzIN"
   },
   "outputs": [],
   "source": [
    "from google.colab import drive"
   ]
  },
  {
   "cell_type": "code",
   "execution_count": null,
   "metadata": {
    "colab": {
     "base_uri": "https://localhost:8080/"
    },
    "executionInfo": {
     "elapsed": 19708,
     "status": "ok",
     "timestamp": 1659310790164,
     "user": {
      "displayName": "Federico Catalano",
      "userId": "05639651212963955278"
     },
     "user_tz": 180
    },
    "id": "vCtbDWPsLOub",
    "outputId": "bf30fc84-b64c-42f2-d13e-e94a7560661c"
   },
   "outputs": [
    {
     "name": "stdout",
     "output_type": "stream",
     "text": [
      "Mounted at /drive/\n"
     ]
    }
   ],
   "source": [
    "drive.mount('/drive/')"
   ]
  },
  {
   "cell_type": "markdown",
   "metadata": {
    "id": "8B8xVHgRlXLW"
   },
   "source": [
    "Vamos a levantar el directorio desde donde estamos trabajando para importar los métodos del módulo `h3_geo`. [H3](https://uber.github.io/h3-py/intro.html) es una librería muy interesante para crear grillas hexagonales.\n",
    "\n",
    "Pusimos algunas herramientas interesantes en este módulo para que podamos crear nuestras zonas."
   ]
  },
  {
   "cell_type": "code",
   "execution_count": null,
   "metadata": {
    "id": "zquJBr9QLFY3"
   },
   "outputs": [],
   "source": [
    "import sys\n",
    "sys.path.append('/drive/MyDrive/Gestion de ciudades/Clase 4 - machine learning')"
   ]
  },
  {
   "cell_type": "code",
   "execution_count": null,
   "metadata": {
    "id": "SXB2-QD2LlKY"
   },
   "outputs": [],
   "source": [
    "from h3_geo import hexgrid_from_shapefile\n",
    "import pandas as pd\n",
    "import geopandas as gpd\n",
    "import numpy as np\n",
    "import seaborn as sns\n",
    "import matplotlib.pyplot as plt"
   ]
  },
  {
   "cell_type": "code",
   "execution_count": null,
   "metadata": {
    "id": "ciCKMPKxLxZn"
   },
   "outputs": [],
   "source": [
    "# Creamos una grilla hexagonal para nuestro problema de clasificacion\n",
    "url = 'https://storage.googleapis.com/python_mdg/carto_cursos/Polyg_371_centroid.json'\n",
    "grid = hexgrid_from_shapefile(input_shapefile=url, res = 8).to_crs(4326)"
   ]
  },
  {
   "cell_type": "code",
   "execution_count": null,
   "metadata": {
    "id": "h-FEDm_jMejV"
   },
   "outputs": [],
   "source": [
    "# Leemos nuestro dataset de propiedades\n",
    "df = pd.read_csv('/drive/MyDrive/Gestion de ciudades/data/properati/desde_CSV/ar_properties.csv.gz')"
   ]
  },
  {
   "cell_type": "code",
   "execution_count": null,
   "metadata": {
    "id": "NsC_ZTTYNJMo"
   },
   "outputs": [],
   "source": [
    "# lo convertimos en un geodataframe de puntos\n",
    "gdf = gpd.GeoDataFrame(df, geometry=gpd.points_from_xy(df['lon'],df['lat']), crs=4326)"
   ]
  },
  {
   "cell_type": "code",
   "execution_count": null,
   "metadata": {
    "id": "aYEHQ0yPNri2"
   },
   "outputs": [],
   "source": [
    "# levantamos una capa de poligonos para filtrar los puntos que caen dentro de San Martin\n",
    "url = 'https://storage.googleapis.com/python_mdg/carto_cursos/Polyg_371.zip'\n",
    "polyg = gpd.read_file(url).to_crs(4326)\n",
    "gdf_sm = gdf.clip(polyg)"
   ]
  },
  {
   "cell_type": "code",
   "execution_count": null,
   "metadata": {
    "colab": {
     "base_uri": "https://localhost:8080/"
    },
    "executionInfo": {
     "elapsed": 8,
     "status": "ok",
     "timestamp": 1659310915833,
     "user": {
      "displayName": "Federico Catalano",
      "userId": "05639651212963955278"
     },
     "user_tz": 180
    },
    "id": "QaSyz3shPp1c",
    "outputId": "932b6a38-716d-45a7-8941-0aa3e612f3c9"
   },
   "outputs": [
    {
     "data": {
      "text/plain": [
       "7976"
      ]
     },
     "execution_count": 12,
     "metadata": {},
     "output_type": "execute_result"
    }
   ],
   "source": [
    "# Nuestro dataset tiene alrededor de 8000 puntos\n",
    "len(gdf_sm)"
   ]
  },
  {
   "cell_type": "code",
   "execution_count": null,
   "metadata": {
    "colab": {
     "base_uri": "https://localhost:8080/",
     "height": 214
    },
    "executionInfo": {
     "elapsed": 1862,
     "status": "ok",
     "timestamp": 1659310918715,
     "user": {
      "displayName": "Federico Catalano",
      "userId": "05639651212963955278"
     },
     "user_tz": 180
    },
    "id": "5M9UCAUtzx0u",
    "outputId": "9800708e-3e62-47d1-a0f7-b69191aaae31"
   },
   "outputs": [
    {
     "data": {
      "image/png": "[encoded data removed]",
      "text/plain": [
       "<Figure size 432x288 with 2 Axes>"
      ]
     },
     "metadata": {
      "needs_background": "light"
     },
     "output_type": "display_data"
    }
   ],
   "source": [
    "# esta es la grilla hexagonal que vamos a utilizar\n",
    "f = plt.figure()\n",
    "ax1 = f.add_subplot(1,2,1)\n",
    "ax2 = f.add_subplot(1,2,2)\n",
    "\n",
    "polyg.plot(ax=ax1)\n",
    "grid.plot(ax=ax2)\n",
    "\n",
    "ax1.set_axis_off()\n",
    "ax2.set_axis_off();"
   ]
  },
  {
   "cell_type": "code",
   "execution_count": null,
   "metadata": {
    "colab": {
     "base_uri": "https://localhost:8080/"
    },
    "executionInfo": {
     "elapsed": 2,
     "status": "ok",
     "timestamp": 1659310920831,
     "user": {
      "displayName": "Federico Catalano",
      "userId": "05639651212963955278"
     },
     "user_tz": 180
    },
    "id": "Yk9kc2gb1bIs",
    "outputId": "6997ccb3-8885-4652-f1f4-cb588303f7bc"
   },
   "outputs": [
    {
     "data": {
      "text/plain": [
       "array(['Otro', 'Local comercial', 'Lote', 'Casa', 'PH', 'Depósito',\n",
       "       'Departamento', 'Oficina', 'Cochera'], dtype=object)"
      ]
     },
     "execution_count": 14,
     "metadata": {},
     "output_type": "execute_result"
    }
   ],
   "source": [
    "# Verifico los tipos de propiedades\n",
    "gdf_sm.property_type.unique()"
   ]
  },
  {
   "cell_type": "code",
   "execution_count": null,
   "metadata": {
    "colab": {
     "base_uri": "https://localhost:8080/"
    },
    "executionInfo": {
     "elapsed": 348,
     "status": "ok",
     "timestamp": 1659310922796,
     "user": {
      "displayName": "Federico Catalano",
      "userId": "05639651212963955278"
     },
     "user_tz": 180
    },
    "id": "PJ753nOpPEMz",
    "outputId": "124c93f6-0399-40e9-9305-a8da5a78c4a1"
   },
   "outputs": [
    {
     "data": {
      "text/plain": [
       "Departamento    2936\n",
       "Name: property_type, dtype: int64"
      ]
     },
     "execution_count": 15,
     "metadata": {},
     "output_type": "execute_result"
    }
   ],
   "source": [
    "# Me quedo solo con departamentos y depositos\n",
    "residencial = ['Departamento']\n",
    "ofres = gdf_sm.loc[gdf['property_type'].isin(residencial)]\n",
    "ofres.property_type.value_counts()"
   ]
  },
  {
   "cell_type": "code",
   "execution_count": null,
   "metadata": {
    "colab": {
     "base_uri": "https://localhost:8080/"
    },
    "executionInfo": {
     "elapsed": 8,
     "status": "ok",
     "timestamp": 1659310924028,
     "user": {
      "displayName": "Federico Catalano",
      "userId": "05639651212963955278"
     },
     "user_tz": 180
    },
    "id": "Y1b6BbNaaaR0",
    "outputId": "bf2f9704-d480-416f-f25d-7b7fb8eed475"
   },
   "outputs": [
    {
     "data": {
      "text/plain": [
       "Depósito    321\n",
       "Name: property_type, dtype: int64"
      ]
     },
     "execution_count": 16,
     "metadata": {},
     "output_type": "execute_result"
    }
   ],
   "source": [
    "no_residencial = ['Depósito']\n",
    "ofnres = gdf_sm.loc[gdf['property_type'].isin(no_residencial)]\n",
    "ofnres.property_type.value_counts()"
   ]
  },
  {
   "cell_type": "code",
   "execution_count": null,
   "metadata": {
    "colab": {
     "base_uri": "https://localhost:8080/",
     "height": 248
    },
    "executionInfo": {
     "elapsed": 945,
     "status": "ok",
     "timestamp": 1659310926422,
     "user": {
      "displayName": "Federico Catalano",
      "userId": "05639651212963955278"
     },
     "user_tz": 180
    },
    "id": "L7mqxkFOPNtb",
    "outputId": "923f3f18-5bce-48c3-f146-5df3a5b436c5"
   },
   "outputs": [
    {
     "data": {
      "image/png": "[encoded data removed]",
      "text/plain": [
       "<Figure size 432x288 with 1 Axes>"
      ]
     },
     "metadata": {
      "needs_background": "light"
     },
     "output_type": "display_data"
    }
   ],
   "source": [
    "# Asi se ven nuestras propiedades en la grilla hexagonal\n",
    "f,ax = plt.subplots()\n",
    "ofres.plot(ax=ax,color='red', markersize=5)\n",
    "ofnres.plot(ax=ax, color='blue', markersize=5);\n",
    "grid.geometry.boundary.plot(ax=ax, linewidth=0.3, color='grey')\n",
    "ax.set_axis_off();"
   ]
  },
  {
   "cell_type": "code",
   "execution_count": null,
   "metadata": {
    "id": "RlxJHHd-bcqx"
   },
   "outputs": [],
   "source": [
    "# Creo un mismo dataset con la oferta residencial e industrial\n",
    "ofres['residencial'] = 1\n",
    "ofnres['industrial'] = 1\n",
    "oferta = pd.concat([ofres,ofnres])"
   ]
  },
  {
   "cell_type": "code",
   "execution_count": null,
   "metadata": {
    "id": "mS7nWUVMQG7h"
   },
   "outputs": [],
   "source": [
    "# Y le agrego el indice y la geometria de nuestra grilla hexagonal\n",
    "oferta_grid = gpd.sjoin(oferta, grid[['h3_res_8','geometry']])"
   ]
  },
  {
   "cell_type": "code",
   "execution_count": null,
   "metadata": {
    "id": "7zZ9YM5QQZpl"
   },
   "outputs": [],
   "source": [
    "# Cuento cuantos puntos de cada categoria caen dentro de los hexagonos\n",
    "grid_vals = oferta_grid.groupby('h3_res_8')[['residencial','industrial']].sum()\n",
    "grid_ = grid.set_index('h3_res_8').join(grid_vals)"
   ]
  },
  {
   "cell_type": "code",
   "execution_count": null,
   "metadata": {
    "colab": {
     "base_uri": "https://localhost:8080/",
     "height": 363
    },
    "executionInfo": {
     "elapsed": 1241,
     "status": "ok",
     "timestamp": 1659310933328,
     "user": {
      "displayName": "Federico Catalano",
      "userId": "05639651212963955278"
     },
     "user_tz": 180
    },
    "id": "guBRJXb7Rq1a",
    "outputId": "e6548110-a5e0-4f63-c15f-054e56ce361a"
   },
   "outputs": [
    {
     "data": {
      "image/png": "[encoded data removed]",
      "text/plain": [
       "<Figure size 720x432 with 4 Axes>"
      ]
     },
     "metadata": {
      "needs_background": "light"
     },
     "output_type": "display_data"
    }
   ],
   "source": [
    "# Veamos en un mapa como se distribuyen ambas categorias\n",
    "f = plt.figure(figsize=(10,6))\n",
    "ax1 = f.add_subplot(1,2,1)\n",
    "ax2 = f.add_subplot(1,2,2)\n",
    "grid_.plot(ax=ax1, column='residencial', cmap = 'YlOrRd', legend=True)\n",
    "grid.geometry.boundary.plot(ax=ax1, linewidth=0.1, color='grey', alpha=0.7)\n",
    "grid_.plot(ax=ax2, column='industrial', cmap='YlOrRd', legend=True)\n",
    "grid.geometry.boundary.plot(ax=ax2, linewidth=0.1, color='grey', alpha=0.7)\n",
    "ax1.set_title('Departamentos')\n",
    "ax2.set_title('Depositos')\n",
    "ax1.set_axis_off()\n",
    "ax2.set_axis_off();"
   ]
  },
  {
   "cell_type": "markdown",
   "metadata": {
    "id": "pNdxjqEW9brf"
   },
   "source": [
    "### 2. Creo un modelo para predecir etiquetas de zonificación"
   ]
  },
  {
   "cell_type": "markdown",
   "metadata": {
    "id": "5frttmhWfLhh"
   },
   "source": [
    "#### 2.1. La regresión logística\n",
    "\n",
    "Las técnicas de clasificación cumplen un rol muy importante en la ciencia de datos. En ese sentido, la `regresión logística` es una de las más utilizadas para resolver problemas de clasificación. Por ejemplo, determinar dentro de un grupo de zonas cuáles son residenciales y no residenciales.\n",
    "\n",
    "La regresión logística describe y estima la relación entre una variable binaria dependiente y un conjunto de variables independientes. \n",
    "\n",
    "Se trata de un método estadístico utilizado para la predicción de clases binarias. En otras palabras, para computar la probabilidad de ocurrencia de un evento. Su resultado es justamente, una variable discreta (0 ó 1).\n",
    "\n",
    "La regresión logística es un tipo de regresión lineal, pero a diferencia de esta trabaja con MLE. `Maximum Likelihood Estimation` es una función de maximización de probabilidad. \n",
    "\n",
    "Maximizar una función de probabilidad implica encontrar los parámetros que tienen mayor probabilidad de producir un evento."
   ]
  },
  {
   "cell_type": "code",
   "execution_count": null,
   "metadata": {
    "id": "XlDHUgShebk4"
   },
   "outputs": [],
   "source": [
    "# Imputo 0 a los valores nulos de las grillas\n",
    "grid_['residencial'] = grid_['residencial'].fillna(0).astype(int)\n",
    "grid_['industrial'] = grid_['industrial'].fillna(0).astype(int) "
   ]
  },
  {
   "cell_type": "code",
   "execution_count": null,
   "metadata": {
    "id": "MEKdBhNmfCym"
   },
   "outputs": [],
   "source": [
    "# Agrego dos campos nuevos, la lat/lon del centroide de la grilla\n",
    "grid_['x'] = grid_['geometry'].centroid.x\n",
    "grid_['y'] = grid_['geometry'].centroid.y"
   ]
  },
  {
   "cell_type": "code",
   "execution_count": null,
   "metadata": {
    "id": "ee1Wg3-9gVVs"
   },
   "outputs": [],
   "source": [
    "# Creo una lista a partir de la cantidad de casos de cada tipo\n",
    "tipos = []\n",
    "for i in grid_.index:\n",
    "  if grid_.loc[i, 'residencial'] > grid_.loc[i, 'industrial']:\n",
    "    tipos.append('residencial')\n",
    "  elif grid_.loc[i, 'industrial'] > grid_.loc[i, 'residencial']:\n",
    "    tipos.append('industrial')\n",
    "  else:\n",
    "    tipos.append('indefinido')\n",
    "\n",
    "# Y agrego una nueva columna con los usos predominantes\n",
    "grid_['tipo'] = tipos"
   ]
  },
  {
   "cell_type": "code",
   "execution_count": null,
   "metadata": {
    "colab": {
     "base_uri": "https://localhost:8080/"
    },
    "executionInfo": {
     "elapsed": 7,
     "status": "ok",
     "timestamp": 1659310943244,
     "user": {
      "displayName": "Federico Catalano",
      "userId": "05639651212963955278"
     },
     "user_tz": 180
    },
    "id": "q705XsUbf4w9",
    "outputId": "1ed5b33f-0f7d-436d-9630-fa2e11607353"
   },
   "outputs": [
    {
     "data": {
      "text/plain": [
       "residencial    75\n",
       "indefinido     36\n",
       "industrial     20\n",
       "Name: tipo, dtype: int64"
      ]
     },
     "execution_count": 25,
     "metadata": {},
     "output_type": "execute_result"
    }
   ],
   "source": [
    "grid_.tipo.value_counts()"
   ]
  },
  {
   "cell_type": "code",
   "execution_count": null,
   "metadata": {
    "id": "5NznrD8lhXRv"
   },
   "outputs": [],
   "source": [
    "# Creo una copia de la grilla para usar en el modelado\n",
    "model_grid = grid_.copy()"
   ]
  },
  {
   "cell_type": "code",
   "execution_count": null,
   "metadata": {
    "id": "-l3znFI3jHoh"
   },
   "outputs": [],
   "source": [
    "# Residencial va a ser la categoría que vamos a predecir\n",
    "model_grid['tipo'].replace({'residencial':1, \n",
    "                            'industrial':0, \n",
    "                            'indefinido':0}, inplace=True)"
   ]
  },
  {
   "cell_type": "code",
   "execution_count": null,
   "metadata": {
    "colab": {
     "base_uri": "https://localhost:8080/"
    },
    "executionInfo": {
     "elapsed": 8,
     "status": "ok",
     "timestamp": 1659310946703,
     "user": {
      "displayName": "Federico Catalano",
      "userId": "05639651212963955278"
     },
     "user_tz": 180
    },
    "id": "xR34EGMite5E",
    "outputId": "916df3f7-9623-47ac-8350-56041fef8ef0"
   },
   "outputs": [
    {
     "data": {
      "text/plain": [
       "1    75\n",
       "0    56\n",
       "Name: tipo, dtype: int64"
      ]
     },
     "execution_count": 28,
     "metadata": {},
     "output_type": "execute_result"
    }
   ],
   "source": [
    "# Es nuestro grupo mayoritario\n",
    "model_grid['tipo'].value_counts()"
   ]
  },
  {
   "cell_type": "code",
   "execution_count": null,
   "metadata": {
    "id": "VJQmS_uAhjg0"
   },
   "outputs": [],
   "source": [
    "# Nuestras variables explicativas\n",
    "expvar_names = ['n','residencial','industrial','x','y']"
   ]
  },
  {
   "cell_type": "code",
   "execution_count": null,
   "metadata": {
    "id": "Ab-NPpJbiFXv"
   },
   "outputs": [],
   "source": [
    "import sklearn\n",
    "from sklearn.model_selection import train_test_split"
   ]
  },
  {
   "cell_type": "code",
   "execution_count": null,
   "metadata": {
    "id": "SQnAMqiHeNo2"
   },
   "outputs": [],
   "source": [
    "# Separo mi dataset en train y test, como tengo pocos datos hago mi set de test lo mas grande posible\n",
    "X, y = model_grid[expvar_names], model_grid['tipo']\n",
    "X_train, X_test, y_train, y_test = train_test_split(X, y, test_size=0.9, random_state=0)"
   ]
  },
  {
   "cell_type": "code",
   "execution_count": null,
   "metadata": {
    "id": "tMVDO0MTTGlS"
   },
   "outputs": [],
   "source": [
    "# Importo la clase \"regresion logistica\" del paquete sklearn\n",
    "from sklearn.linear_model import LogisticRegression\n",
    "\n",
    "# Instancio el modelo,\n",
    "logreg = LogisticRegression()\n",
    "\n",
    "# lo entreno con mi set de entrenamiento\n",
    "logreg.fit(X_train,y_train)\n",
    "\n",
    "# y predigo!\n",
    "y_pred=logreg.predict(X_test)"
   ]
  },
  {
   "cell_type": "code",
   "execution_count": null,
   "metadata": {
    "colab": {
     "base_uri": "https://localhost:8080/"
    },
    "executionInfo": {
     "elapsed": 7,
     "status": "ok",
     "timestamp": 1659310953136,
     "user": {
      "displayName": "Federico Catalano",
      "userId": "05639651212963955278"
     },
     "user_tz": 180
    },
    "id": "YaRz2TCptzqx",
    "outputId": "ff092f95-6fa4-41b0-b7eb-27da1e51ae54"
   },
   "outputs": [
    {
     "data": {
      "text/plain": [
       "(118, 118)"
      ]
     },
     "execution_count": 33,
     "metadata": {},
     "output_type": "execute_result"
    }
   ],
   "source": [
    "# Use esta cantidad de casos para entrenar\n",
    "len(y_test), len(y_pred)"
   ]
  },
  {
   "cell_type": "code",
   "execution_count": null,
   "metadata": {
    "id": "M1Ey44bzinjA"
   },
   "outputs": [],
   "source": [
    "# Con la clase metrics voy a evaluar mi modelo\n",
    "from sklearn import metrics\n",
    "cnf_matrix = metrics.confusion_matrix(y_test, y_pred)"
   ]
  },
  {
   "cell_type": "code",
   "execution_count": null,
   "metadata": {
    "colab": {
     "base_uri": "https://localhost:8080/",
     "height": 325
    },
    "executionInfo": {
     "elapsed": 734,
     "status": "ok",
     "timestamp": 1659310955934,
     "user": {
      "displayName": "Federico Catalano",
      "userId": "05639651212963955278"
     },
     "user_tz": 180
    },
    "id": "e4lk7JXvoO2k",
    "outputId": "c5250a2e-9582-49a5-8ca2-a451569389a4"
   },
   "outputs": [
    {
     "data": {
      "image/png": "[encoded data removed]",
      "text/plain": [
       "<Figure size 432x288 with 2 Axes>"
      ]
     },
     "metadata": {
      "needs_background": "light"
     },
     "output_type": "display_data"
    }
   ],
   "source": [
    "labels = [0,1] # Estos son los tipos que intente predecir (residencial/no residencial)\n",
    "fig, ax = plt.subplots()\n",
    "tick_marks = np.arange(len(labels))\n",
    "plt.xticks(tick_marks, labels)\n",
    "plt.yticks(tick_marks, labels)\n",
    "\n",
    "# ploteamos un heatmap\n",
    "sns.heatmap(pd.DataFrame(cnf_matrix), annot=True, cmap=\"YlOrBr\" ,fmt='g')\n",
    "ax.xaxis.set_label_position(\"top\")\n",
    "plt.tight_layout()\n",
    "plt.title('Matriz de confusión', y=1.1)\n",
    "plt.ylabel('Etiqueta actual')\n",
    "plt.xlabel('Etiqueta predicha');"
   ]
  },
  {
   "cell_type": "code",
   "execution_count": null,
   "metadata": {
    "colab": {
     "base_uri": "https://localhost:8080/"
    },
    "executionInfo": {
     "elapsed": 292,
     "status": "ok",
     "timestamp": 1659310957507,
     "user": {
      "displayName": "Federico Catalano",
      "userId": "05639651212963955278"
     },
     "user_tz": 180
    },
    "id": "089fHkT1i_ZE",
    "outputId": "2255dbeb-2ba4-4b95-ad7c-629dd316d3a9"
   },
   "outputs": [
    {
     "name": "stdout",
     "output_type": "stream",
     "text": [
      "Accuracy: 0.8813559322033898\n",
      "Precision: 0.90625\n",
      "Recall: 0.8787878787878788\n"
     ]
    }
   ],
   "source": [
    "# Metricas de evaluación\n",
    "print(\"Accuracy:\", metrics.accuracy_score(y_test, y_pred))\n",
    "print(\"Precision:\", metrics.precision_score(y_test, y_pred))\n",
    "print(\"Recall:\", metrics.recall_score(y_test, y_pred))"
   ]
  },
  {
   "cell_type": "markdown",
   "metadata": {
    "id": "0hjS7lyQ_3os"
   },
   "source": [
    "El accuracy nos va a estar indicando el porcentaje total de casos que clasificamos correctamente. \n",
    "\n",
    "Precision y Recall van a poner a nuestros resultados en contexto. El primero, teniendo en cuenta el peso de los falsos positivos (VP/VP+FP), el segundo el de los falsos negativos (VP/VP+FN)."
   ]
  },
  {
   "cell_type": "code",
   "execution_count": null,
   "metadata": {
    "colab": {
     "base_uri": "https://localhost:8080/",
     "height": 279
    },
    "executionInfo": {
     "elapsed": 307,
     "status": "ok",
     "timestamp": 1659310960891,
     "user": {
      "displayName": "Federico Catalano",
      "userId": "05639651212963955278"
     },
     "user_tz": 180
    },
    "id": "iFZq_fZ7ists",
    "outputId": "7c3bfc2d-24ac-4bdd-828f-cf064790b1ae"
   },
   "outputs": [
    {
     "data": {
      "image/png": "[encoded data removed]",
      "text/plain": [
       "<Figure size 432x288 with 1 Axes>"
      ]
     },
     "metadata": {
      "needs_background": "light"
     },
     "output_type": "display_data"
    }
   ],
   "source": [
    "# Una última referencia de evaluación, la curva ROC\n",
    "y_pred_proba = logreg.predict_proba(X_test)[::,1]\n",
    "fpr, tpr, _ = metrics.roc_curve(y_test,  y_pred_proba)\n",
    "auc = metrics.roc_auc_score(y_test, y_pred_proba)\n",
    "plt.plot(fpr,tpr,label=\"data 1, auc=\"+str(round(auc,2)))\n",
    "plt.legend(loc=4)\n",
    "plt.grid()\n",
    "plt.ylabel('Verdaderos positivos')\n",
    "plt.xlabel('Falsos positivos')\n",
    "plt.show()"
   ]
  },
  {
   "cell_type": "markdown",
   "metadata": {
    "id": "nBZ9vDb-DfwZ"
   },
   "source": [
    "La curva ROC (Receiver Operating Characteristic) es una comparación entre los ratios de Verdaderos Positivos contra el de Falsos positivos. Más cerca de 1, mejor debería funcionar nuestro clasificador. 0.5 es completa aleatoriedad (como tirar una moneda)"
   ]
  },
  {
   "cell_type": "markdown",
   "metadata": {
    "id": "vmLP0XnfE9wU"
   },
   "source": [
    "### 3. Y predigo!"
   ]
  },
  {
   "cell_type": "code",
   "execution_count": null,
   "metadata": {
    "id": "YoIrGPO8kMDz"
   },
   "outputs": [],
   "source": [
    "# Aplico mi modelo entrenado sobre mi dataset de grillas hexagonales\n",
    "preds = logreg.predict(grid_[expvar_names])\n",
    "grid_['tipo_pred'] = preds"
   ]
  },
  {
   "cell_type": "code",
   "execution_count": null,
   "metadata": {
    "colab": {
     "base_uri": "https://localhost:8080/",
     "height": 357
    },
    "executionInfo": {
     "elapsed": 418,
     "status": "ok",
     "timestamp": 1659310966072,
     "user": {
      "displayName": "Federico Catalano",
      "userId": "05639651212963955278"
     },
     "user_tz": 180
    },
    "id": "2ml433ack49z",
    "outputId": "56bcd652-b27d-47a2-84d5-2e100e8e316e"
   },
   "outputs": [
    {
     "data": {
      "image/png": "[encoded data removed]",
      "text/plain": [
       "<Figure size 720x432 with 1 Axes>"
      ]
     },
     "metadata": {
      "needs_background": "light"
     },
     "output_type": "display_data"
    }
   ],
   "source": [
    "# Y veo los resultados\n",
    "f,ax = plt.subplots(figsize=(10,6))\n",
    "grid_.loc[grid_['tipo_pred']==1].plot(ax=ax, color='lightgrey')\n",
    "grid_.loc[grid_['tipo_pred']==0].plot(ax=ax, color='purple')\n",
    "ax.set_axis_off()"
   ]
  }
 ],
 "metadata": {
  "colab": {
   "authorship_tag": "ABX9TyOGJ4qEM7MPi4mLSQzQ4Huc",
   "name": "Problemas de clasificacion - zonificacion.ipynb",
   "provenance": [],
   "toc_visible": true
  },
  "kernelspec": {
   "display_name": "Python 3 (ipykernel)",
   "language": "python",
   "name": "python3"
  },
  "language_info": {
   "codemirror_mode": {
    "name": "ipython",
    "version": 3
   },
   "file_extension": ".py",
   "mimetype": "text/x-python",
   "name": "python",
   "nbconvert_exporter": "python",
   "pygments_lexer": "ipython3",
   "version": "3.10.4"
  }
 },
 "nbformat": 4,
 "nbformat_minor": 1
}
